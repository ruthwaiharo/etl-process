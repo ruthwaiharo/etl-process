{
 "cells": [
  {
   "cell_type": "code",
   "execution_count": 11,
   "id": "49488792",
   "metadata": {},
   "outputs": [],
   "source": [
    "import pymongo"
   ]
  },
  {
   "cell_type": "code",
   "execution_count": 12,
   "id": "db049c6a",
   "metadata": {},
   "outputs": [],
   "source": [
    "myclient = pymongo.MongoClient('mongodb://localhost:27017') #initializing a mongodb connection #default"
   ]
  },
  {
   "cell_type": "code",
   "execution_count": 13,
   "id": "2122e42b",
   "metadata": {},
   "outputs": [],
   "source": [
    "mydb = myclient['employees'] #createsadatabase called employees"
   ]
  },
  {
   "cell_type": "code",
   "execution_count": 14,
   "id": "5f7951fe",
   "metadata": {},
   "outputs": [],
   "source": [
    "mycol = mydb['transactions'] #creates a table(collection) called transactions"
   ]
  },
  {
   "cell_type": "code",
   "execution_count": 15,
   "id": "ede2debc",
   "metadata": {},
   "outputs": [],
   "source": [
    "columns = [\"id\",\"name\",\"product\",\"amount\",\"saleprice\",\"status\",\"date\"]"
   ]
  },
  {
   "cell_type": "code",
   "execution_count": 16,
   "id": "622d32d4",
   "metadata": {},
   "outputs": [],
   "source": [
    "mydict = {\"_id\":\"001\",\"name\":\"Mary A\",\"product\":\"book\",\"amount\":\"900\",\"saleprice\":\"15\",\"status\":\"sold\",\"date\":\"2021-07-08\"}\n",
    "x = mycol.insert_one(mydict)"
   ]
  },
  {
   "cell_type": "code",
   "execution_count": 17,
   "id": "3f3819b7",
   "metadata": {},
   "outputs": [
    {
     "name": "stdout",
     "output_type": "stream",
     "text": [
      "Id: 002\n",
      "Name: Anita M\n",
      "Product: Shoes\n",
      "Amount: 80\n",
      "Saleprice: 20\n",
      "Status: sold\n",
      "Date YYYY-M-D: 2021-07-08\n",
      "Data has been inserted!!!\n",
      "Do you want to continue?\n",
      "Enter 1 to continue and 0 to quit: 1\n",
      "Id: 003\n",
      "Name: Winner\n",
      "Product: Laptops\n",
      "Amount: 70\n",
      "Saleprice: 700\n",
      "Status: sold\n",
      "Date YYYY-M-D: 2021-07-08\n",
      "Data has been inserted!!!\n",
      "Do you want to continue?\n",
      "Enter 1 to continue and 0 to quit: 1\n",
      "Id: 004\n",
      "Name: Habiba\n",
      "Product: Makeup\n",
      "Amount: 30\n",
      "Saleprice: 15\n",
      "Status: sold\n",
      "Date YYYY-M-D: 2021-07-08\n",
      "Data has been inserted!!!\n",
      "Do you want to continue?\n",
      "Enter 1 to continue and 0 to quit: 0\n",
      "Thank you!!\n"
     ]
    }
   ],
   "source": [
    "counter = True\n",
    "while counter:\n",
    "    user_id = input(\"Id: \")\n",
    "    name = input(\"Name: \")\n",
    "    product= input(\"Product: \")\n",
    "    amount = int(input(\"Amount: \"))\n",
    "    saleprice = float(input(\"Saleprice: \"))\n",
    "    status = input(\"Status: \")\n",
    "    date = input(\"Date YYYY-M-D: \")\n",
    "    \n",
    "    mydict = {\"_id\":user_id,\"name\":name,\"product\":product,\"amount\":amount,\"saleprice\":saleprice,\"status\":status,\"date\":date}\n",
    "    x = mycol.insert_one(mydict)\n",
    "    \n",
    "    print('Data has been inserted!!!')\n",
    "    print('Do you want to continue?')\n",
    "    value = int(input(\"Enter 1 to continue and 0 to quit: \"))\n",
    "    if value == 1:\n",
    "        pass\n",
    "    elif value == 0:\n",
    "        print('Thank you!!')\n",
    "        counter = False\n",
    "    else:\n",
    "        break"
   ]
  },
  {
   "cell_type": "code",
   "execution_count": 38,
   "id": "9481070d",
   "metadata": {},
   "outputs": [
    {
     "data": {
      "text/plain": [
       "<pymongo.cursor.Cursor at 0x1523deb4a00>"
      ]
     },
     "execution_count": 38,
     "metadata": {},
     "output_type": "execute_result"
    }
   ],
   "source": [
    "x = mycol.find()\n",
    "x"
   ]
  },
  {
   "cell_type": "code",
   "execution_count": 37,
   "id": "d451ca0a",
   "metadata": {},
   "outputs": [
    {
     "name": "stdout",
     "output_type": "stream",
     "text": [
      "{'_id': '002', 'name': 'Anita M', 'product': 'Shoes', 'amount': 80, 'saleprice': 20.0, 'status': 'sold', 'date': '2021-07-08'}\n",
      "{'_id': '003', 'name': 'Winner', 'product': 'Laptops', 'amount': 70, 'saleprice': 700.0, 'status': 'sold', 'date': '2021-07-08'}\n",
      "{'_id': '004', 'name': 'Habiba', 'product': 'Makeup', 'amount': 30, 'saleprice': 15.0, 'status': 'sold', 'date': '2021-07-08'}\n"
     ]
    }
   ],
   "source": [
    "for data in x:\n",
    "    print(data)"
   ]
  },
  {
   "cell_type": "code",
   "execution_count": 39,
   "id": "ad525cf2",
   "metadata": {},
   "outputs": [],
   "source": [
    "mylist = []"
   ]
  },
  {
   "cell_type": "code",
   "execution_count": 40,
   "id": "71f39fb1",
   "metadata": {},
   "outputs": [
    {
     "name": "stdout",
     "output_type": "stream",
     "text": [
      "{'_id': '002', 'name': 'Anita M', 'product': 'Shoes', 'amount': 80, 'saleprice': 20.0, 'status': 'sold', 'date': '2021-07-08'}\n",
      "{'_id': '003', 'name': 'Winner', 'product': 'Laptops', 'amount': 70, 'saleprice': 700.0, 'status': 'sold', 'date': '2021-07-08'}\n",
      "{'_id': '004', 'name': 'Habiba', 'product': 'Makeup', 'amount': 30, 'saleprice': 15.0, 'status': 'sold', 'date': '2021-07-08'}\n"
     ]
    }
   ],
   "source": [
    "for data in x:\n",
    "    mylist.append(data)\n",
    "    print(data)"
   ]
  },
  {
   "cell_type": "code",
   "execution_count": 41,
   "id": "0e003386",
   "metadata": {},
   "outputs": [
    {
     "name": "stdout",
     "output_type": "stream",
     "text": [
      "[{'_id': '002', 'name': 'Anita M', 'product': 'Shoes', 'amount': 80, 'saleprice': 20.0, 'status': 'sold', 'date': '2021-07-08'}, {'_id': '003', 'name': 'Winner', 'product': 'Laptops', 'amount': 70, 'saleprice': 700.0, 'status': 'sold', 'date': '2021-07-08'}, {'_id': '004', 'name': 'Habiba', 'product': 'Makeup', 'amount': 30, 'saleprice': 15.0, 'status': 'sold', 'date': '2021-07-08'}]\n"
     ]
    }
   ],
   "source": [
    "print(mylist)"
   ]
  },
  {
   "cell_type": "code",
   "execution_count": 27,
   "id": "c6ca919b",
   "metadata": {},
   "outputs": [],
   "source": [
    "import pandas as pd"
   ]
  },
  {
   "cell_type": "code",
   "execution_count": 42,
   "id": "6c63b946",
   "metadata": {},
   "outputs": [],
   "source": [
    "df = pd.DataFrame(mylist)"
   ]
  },
  {
   "cell_type": "code",
   "execution_count": 43,
   "id": "ef74e9d5",
   "metadata": {},
   "outputs": [
    {
     "data": {
      "text/html": [
       "<div>\n",
       "<style scoped>\n",
       "    .dataframe tbody tr th:only-of-type {\n",
       "        vertical-align: middle;\n",
       "    }\n",
       "\n",
       "    .dataframe tbody tr th {\n",
       "        vertical-align: top;\n",
       "    }\n",
       "\n",
       "    .dataframe thead th {\n",
       "        text-align: right;\n",
       "    }\n",
       "</style>\n",
       "<table border=\"1\" class=\"dataframe\">\n",
       "  <thead>\n",
       "    <tr style=\"text-align: right;\">\n",
       "      <th></th>\n",
       "      <th>_id</th>\n",
       "      <th>name</th>\n",
       "      <th>product</th>\n",
       "      <th>amount</th>\n",
       "      <th>saleprice</th>\n",
       "      <th>status</th>\n",
       "      <th>date</th>\n",
       "    </tr>\n",
       "  </thead>\n",
       "  <tbody>\n",
       "    <tr>\n",
       "      <th>0</th>\n",
       "      <td>002</td>\n",
       "      <td>Anita M</td>\n",
       "      <td>Shoes</td>\n",
       "      <td>80</td>\n",
       "      <td>20.0</td>\n",
       "      <td>sold</td>\n",
       "      <td>2021-07-08</td>\n",
       "    </tr>\n",
       "    <tr>\n",
       "      <th>1</th>\n",
       "      <td>003</td>\n",
       "      <td>Winner</td>\n",
       "      <td>Laptops</td>\n",
       "      <td>70</td>\n",
       "      <td>700.0</td>\n",
       "      <td>sold</td>\n",
       "      <td>2021-07-08</td>\n",
       "    </tr>\n",
       "    <tr>\n",
       "      <th>2</th>\n",
       "      <td>004</td>\n",
       "      <td>Habiba</td>\n",
       "      <td>Makeup</td>\n",
       "      <td>30</td>\n",
       "      <td>15.0</td>\n",
       "      <td>sold</td>\n",
       "      <td>2021-07-08</td>\n",
       "    </tr>\n",
       "  </tbody>\n",
       "</table>\n",
       "</div>"
      ],
      "text/plain": [
       "   _id     name  product  amount  saleprice status        date\n",
       "0  002  Anita M    Shoes      80       20.0   sold  2021-07-08\n",
       "1  003   Winner  Laptops      70      700.0   sold  2021-07-08\n",
       "2  004   Habiba   Makeup      30       15.0   sold  2021-07-08"
      ]
     },
     "execution_count": 43,
     "metadata": {},
     "output_type": "execute_result"
    }
   ],
   "source": [
    "df"
   ]
  },
  {
   "cell_type": "code",
   "execution_count": 44,
   "id": "55515e5e",
   "metadata": {},
   "outputs": [],
   "source": [
    "df['total'] = df['amount'] * df['saleprice']"
   ]
  },
  {
   "cell_type": "code",
   "execution_count": 45,
   "id": "d1894ac3",
   "metadata": {},
   "outputs": [
    {
     "data": {
      "text/html": [
       "<div>\n",
       "<style scoped>\n",
       "    .dataframe tbody tr th:only-of-type {\n",
       "        vertical-align: middle;\n",
       "    }\n",
       "\n",
       "    .dataframe tbody tr th {\n",
       "        vertical-align: top;\n",
       "    }\n",
       "\n",
       "    .dataframe thead th {\n",
       "        text-align: right;\n",
       "    }\n",
       "</style>\n",
       "<table border=\"1\" class=\"dataframe\">\n",
       "  <thead>\n",
       "    <tr style=\"text-align: right;\">\n",
       "      <th></th>\n",
       "      <th>_id</th>\n",
       "      <th>name</th>\n",
       "      <th>product</th>\n",
       "      <th>amount</th>\n",
       "      <th>saleprice</th>\n",
       "      <th>status</th>\n",
       "      <th>date</th>\n",
       "      <th>total</th>\n",
       "    </tr>\n",
       "  </thead>\n",
       "  <tbody>\n",
       "    <tr>\n",
       "      <th>0</th>\n",
       "      <td>002</td>\n",
       "      <td>Anita M</td>\n",
       "      <td>Shoes</td>\n",
       "      <td>80</td>\n",
       "      <td>20.0</td>\n",
       "      <td>sold</td>\n",
       "      <td>2021-07-08</td>\n",
       "      <td>1600.0</td>\n",
       "    </tr>\n",
       "    <tr>\n",
       "      <th>1</th>\n",
       "      <td>003</td>\n",
       "      <td>Winner</td>\n",
       "      <td>Laptops</td>\n",
       "      <td>70</td>\n",
       "      <td>700.0</td>\n",
       "      <td>sold</td>\n",
       "      <td>2021-07-08</td>\n",
       "      <td>49000.0</td>\n",
       "    </tr>\n",
       "    <tr>\n",
       "      <th>2</th>\n",
       "      <td>004</td>\n",
       "      <td>Habiba</td>\n",
       "      <td>Makeup</td>\n",
       "      <td>30</td>\n",
       "      <td>15.0</td>\n",
       "      <td>sold</td>\n",
       "      <td>2021-07-08</td>\n",
       "      <td>450.0</td>\n",
       "    </tr>\n",
       "  </tbody>\n",
       "</table>\n",
       "</div>"
      ],
      "text/plain": [
       "   _id     name  product  amount  saleprice status        date    total\n",
       "0  002  Anita M    Shoes      80       20.0   sold  2021-07-08   1600.0\n",
       "1  003   Winner  Laptops      70      700.0   sold  2021-07-08  49000.0\n",
       "2  004   Habiba   Makeup      30       15.0   sold  2021-07-08    450.0"
      ]
     },
     "execution_count": 45,
     "metadata": {},
     "output_type": "execute_result"
    }
   ],
   "source": [
    "df"
   ]
  },
  {
   "cell_type": "code",
   "execution_count": null,
   "id": "e52b40a6",
   "metadata": {},
   "outputs": [],
   "source": []
  }
 ],
 "metadata": {
  "kernelspec": {
   "display_name": "Python 3",
   "language": "python",
   "name": "python3"
  },
  "language_info": {
   "codemirror_mode": {
    "name": "ipython",
    "version": 3
   },
   "file_extension": ".py",
   "mimetype": "text/x-python",
   "name": "python",
   "nbconvert_exporter": "python",
   "pygments_lexer": "ipython3",
   "version": "3.8.8"
  }
 },
 "nbformat": 4,
 "nbformat_minor": 5
}
