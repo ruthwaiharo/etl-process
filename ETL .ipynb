{
 "cells": [
  {
   "cell_type": "code",
   "execution_count": 1,
   "metadata": {},
   "outputs": [],
   "source": [
    "import sqlite3"
   ]
  },
  {
   "cell_type": "code",
   "execution_count": 2,
   "metadata": {},
   "outputs": [],
   "source": [
    "con = sqlite3.connect('employees.db')"
   ]
  },
  {
   "cell_type": "code",
   "execution_count": 3,
   "metadata": {},
   "outputs": [],
   "source": [
    "cursor = con.cursor()"
   ]
  },
  {
   "cell_type": "code",
   "execution_count": 4,
   "metadata": {},
   "outputs": [],
   "source": [
    "cursor.execute(\"CREATE TABLE HR(id integer PRIMARY KEY, name text, status text, salary real, department text, position text, hireDate text)\")\n",
    "con.commit()"
   ]
  },
  {
   "cell_type": "code",
   "execution_count": 6,
   "metadata": {},
   "outputs": [
    {
     "name": "stdout",
     "output_type": "stream",
     "text": [
      "Enter your ID: 10\n",
      "Enter your name: Mary A\n",
      "Enter your statusYes\n",
      "Enter your salary: 800\n",
      "Enter your department: IT\n",
      "Enter your position: Data analyst\n",
      "Enter date \"YYYY-M-D\": 2021-07-09\n",
      "Data has been inserted!!!\n",
      "Do you want to continue?\n",
      "Enter 1 to continue and 0 to quit1\n",
      "Enter your ID: 09\n",
      "Enter your name: Emeto W\n",
      "Enter your statusyes\n",
      "Enter your salary: 900\n",
      "Enter your department: DS\n",
      "Enter your position: facilitator\n",
      "Enter date \"YYYY-M-D\": 2021-07-10\n",
      "Data has been inserted!!!\n",
      "Do you want to continue?\n",
      "Enter 1 to continue and 0 to quit1\n",
      "Enter your ID: 08\n",
      "Enter your name: Chinenye V\n",
      "Enter your statusyes\n",
      "Enter your salary: 900\n",
      "Enter your department: IT\n",
      "Enter your position: data scientist\n",
      "Enter date \"YYYY-M-D\": 2021-08-09\n",
      "Data has been inserted!!!\n",
      "Do you want to continue?\n",
      "Enter 1 to continue and 0 to quit1\n",
      "Enter your ID: 07\n",
      "Enter your name: Fanny A\n",
      "Enter your statusNo\n",
      "Enter your salary: 600\n",
      "Enter your department: Admin\n",
      "Enter your position: Administrator\n",
      "Enter date \"YYYY-M-D\": 2021-09-09\n",
      "Data has been inserted!!!\n",
      "Do you want to continue?\n",
      "Enter 1 to continue and 0 to quit0\n",
      "Thank you!!\n"
     ]
    }
   ],
   "source": [
    "counter = True\n",
    "while counter:\n",
    "    user_id = int(input('Enter your ID: '))\n",
    "    name = input('Enter your name: ')\n",
    "    status = input('Enter your status')\n",
    "    salary = float(input('Enter your salary: '))\n",
    "    department = input('Enter your department: ')\n",
    "    position = input('Enter your position: ')\n",
    "    date = input('Enter date \"YYYY-M-D\": ')\n",
    "    entities = (user_id,name,status,salary,department,position,date)\n",
    "    cursor.execute(\"INSERT INTO HR(id,name,status,salary,department,position,hireDate) VALUES(?,?,?,?,?,?,?)\",entities)\n",
    "    con.commit()\n",
    "    print('Data has been inserted!!!')\n",
    "    print('Do you want to continue?')\n",
    "    value = int(input(\"Enter 1 to continue and 0 to quit\"))\n",
    "    if value == 1:\n",
    "        pass\n",
    "    elif value == 0:\n",
    "        print('Thank you!!')\n",
    "        counter = False\n",
    "    else:    \n",
    "        break\n",
    "    "
   ]
  },
  {
   "cell_type": "code",
   "execution_count": 9,
   "metadata": {},
   "outputs": [],
   "source": [
    "cursor.execute('SELECT * FROM HR')\n",
    "rows = cursor.fetchall()"
   ]
  },
  {
   "cell_type": "code",
   "execution_count": 13,
   "metadata": {},
   "outputs": [
    {
     "name": "stdout",
     "output_type": "stream",
     "text": [
      "(7, 'Fanny A', 'No', 600.0, 'Admin', 'Administrator', '2021-09-09')\n",
      "7\n",
      "(8, 'Chinenye V', 'yes', 900.0, 'IT', 'data scientist', '2021-08-09')\n",
      "8\n",
      "(9, 'Emeto W', 'yes', 900.0, 'DS', 'facilitator', '2021-07-10')\n",
      "9\n",
      "(10, 'Mary A', 'Yes', 800.0, 'IT', 'Data analyst', '2021-07-09')\n",
      "10\n",
      "(12, 'Ogo Kate', 'Yes', 700.0, 'IT', 'scientist ', '2021-07-07')\n",
      "12\n"
     ]
    }
   ],
   "source": [
    "for row in rows:\n",
    "    print(row)\n",
    "    print(row[0])"
   ]
  },
  {
   "cell_type": "code",
   "execution_count": 12,
   "metadata": {},
   "outputs": [],
   "source": [
    "mylist = []\n"
   ]
  },
  {
   "cell_type": "code",
   "execution_count": 14,
   "metadata": {},
   "outputs": [],
   "source": [
    "for row in rows:\n",
    "    mylist.append({'id':row[0], 'name':row[1], 'status':row[2], 'salary':row[3], 'department':row[4], 'position':row[5], 'data':row[6]})\n",
    "    "
   ]
  },
  {
   "cell_type": "code",
   "execution_count": 15,
   "metadata": {},
   "outputs": [
    {
     "name": "stdout",
     "output_type": "stream",
     "text": [
      "[{'id': 7, 'name': 'Fanny A', 'status': 'No', 'salary': 600.0, 'department': 'Admin', 'position': 'Administrator', 'data': '2021-09-09'}, {'id': 8, 'name': 'Chinenye V', 'status': 'yes', 'salary': 900.0, 'department': 'IT', 'position': 'data scientist', 'data': '2021-08-09'}, {'id': 9, 'name': 'Emeto W', 'status': 'yes', 'salary': 900.0, 'department': 'DS', 'position': 'facilitator', 'data': '2021-07-10'}, {'id': 10, 'name': 'Mary A', 'status': 'Yes', 'salary': 800.0, 'department': 'IT', 'position': 'Data analyst', 'data': '2021-07-09'}, {'id': 12, 'name': 'Ogo Kate', 'status': 'Yes', 'salary': 700.0, 'department': 'IT', 'position': 'scientist ', 'data': '2021-07-07'}]\n"
     ]
    }
   ],
   "source": [
    "print(mylist)"
   ]
  },
  {
   "cell_type": "code",
   "execution_count": 16,
   "metadata": {},
   "outputs": [],
   "source": [
    "import pandas as pd"
   ]
  },
  {
   "cell_type": "code",
   "execution_count": 17,
   "metadata": {},
   "outputs": [],
   "source": [
    "df = pd.DataFrame(mylist)"
   ]
  },
  {
   "cell_type": "code",
   "execution_count": 18,
   "metadata": {},
   "outputs": [
    {
     "name": "stdout",
     "output_type": "stream",
     "text": [
      "   id        name status  salary department        position        data\n",
      "0   7     Fanny A     No   600.0      Admin   Administrator  2021-09-09\n",
      "1   8  Chinenye V    yes   900.0         IT  data scientist  2021-08-09\n",
      "2   9     Emeto W    yes   900.0         DS     facilitator  2021-07-10\n",
      "3  10      Mary A    Yes   800.0         IT    Data analyst  2021-07-09\n",
      "4  12    Ogo Kate    Yes   700.0         IT      scientist   2021-07-07\n"
     ]
    }
   ],
   "source": [
    "print(df)"
   ]
  },
  {
   "cell_type": "code",
   "execution_count": null,
   "metadata": {},
   "outputs": [],
   "source": []
  },
  {
   "cell_type": "code",
   "execution_count": null,
   "metadata": {},
   "outputs": [],
   "source": []
  },
  {
   "cell_type": "code",
   "execution_count": null,
   "metadata": {},
   "outputs": [],
   "source": []
  }
 ],
 "metadata": {
  "kernelspec": {
   "display_name": "Python 3",
   "language": "python",
   "name": "python3"
  },
  "language_info": {
   "codemirror_mode": {
    "name": "ipython",
    "version": 3
   },
   "file_extension": ".py",
   "mimetype": "text/x-python",
   "name": "python",
   "nbconvert_exporter": "python",
   "pygments_lexer": "ipython3",
   "version": "3.8.5"
  }
 },
 "nbformat": 4,
 "nbformat_minor": 4
}
